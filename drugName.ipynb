{
  "nbformat": 4,
  "nbformat_minor": 0,
  "metadata": {
    "colab": {
      "provenance": [],
      "authorship_tag": "ABX9TyOAGz05/oYqkO2lSlNFtS9a",
      "include_colab_link": true
    },
    "kernelspec": {
      "name": "python3",
      "display_name": "Python 3"
    },
    "language_info": {
      "name": "python"
    }
  },
  "cells": [
    {
      "cell_type": "markdown",
      "metadata": {
        "id": "view-in-github",
        "colab_type": "text"
      },
      "source": [
        "<a href=\"https://colab.research.google.com/github/kalyani234/Drug_Project/blob/main/drugName.ipynb\" target=\"_parent\"><img src=\"https://colab.research.google.com/assets/colab-badge.svg\" alt=\"Open In Colab\"/></a>"
      ]
    },
    {
      "cell_type": "code",
      "execution_count": 1,
      "metadata": {
        "id": "TtDFBlNIgRNx"
      },
      "outputs": [],
      "source": [
        "import pandas as pd\n",
        "\n",
        "# Load the first file with \"DrugBank ID\" and \"Common name\"\n",
        "file1 = pd.read_excel(\"/content/drugbank_names.xlsx\")  # replace with actual filename\n",
        "file1.columns = ['DrugBank ID', 'Common name']  # Specify columns explicitly if there is no header\n",
        "\n",
        "# Load the second file with only \"DrugBank ID\"\n",
        "file2 = pd.read_excel(\"/content/final_list_drugANames.xlsx\")  # replace with actual filename\n",
        "file2.columns = ['DrugBank ID']  # Specify column explicitly if there is no header\n",
        "\n",
        "# Merge the two dataframes on \"DrugBank ID\"\n",
        "merged_data = pd.merge(file2, file1, on=\"DrugBank ID\", how=\"left\")\n",
        "\n",
        "# Save the result to a new Excel file\n",
        "merged_data.to_excel(\"merged_output.xlsx\", index=False)\n"
      ]
    }
  ]
}