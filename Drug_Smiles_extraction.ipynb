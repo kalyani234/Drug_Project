{
  "cells": [
    {
      "cell_type": "markdown",
      "metadata": {
        "id": "view-in-github",
        "colab_type": "text"
      },
      "source": [
        "<a href=\"https://colab.research.google.com/github/kalyani234/Drug_Project/blob/main/Drug_Smiles_extraction.ipynb\" target=\"_parent\"><img src=\"https://colab.research.google.com/assets/colab-badge.svg\" alt=\"Open In Colab\"/></a>"
      ]
    },
    {
      "cell_type": "code",
      "execution_count": null,
      "metadata": {
        "colab": {
          "base_uri": "https://localhost:8080/"
        },
        "id": "3J52FiNPKzcI",
        "outputId": "171f465f-d761-4cef-d01c-3735657eb9dc"
      },
      "outputs": [
        {
          "name": "stdout",
          "output_type": "stream",
          "text": [
            "--2024-10-17 12:23:35--  ftp://ftp.ebi.ac.uk/pub/databases/chembl/ChEMBLdb/latest/\n",
            "           => ‘.listing’\n",
            "Resolving ftp.ebi.ac.uk (ftp.ebi.ac.uk)... 193.62.193.165\n",
            "Connecting to ftp.ebi.ac.uk (ftp.ebi.ac.uk)|193.62.193.165|:21... connected.\n",
            "Logging in as anonymous ... Logged in!\n",
            "==> SYST ... done.    ==> PWD ... done.\n",
            "==> TYPE I ... done.  ==> CWD (1) /pub/databases/chembl/ChEMBLdb/latest ... done.\n",
            "==> PASV ... done.    ==> LIST ... done.\n",
            "\n",
            ".listing                [ <=>                ]   1.80K  --.-KB/s    in 0s      \n",
            "\n",
            "2024-10-17 12:23:36 (110 MB/s) - ‘.listing’ saved [1839]\n",
            "\n",
            "Wrote HTML-ized index to ‘index.html.1’ [3909].\n"
          ]
        }
      ],
      "source": [
        "!wget --no-remove-listing ftp://ftp.ebi.ac.uk/pub/databases/chembl/ChEMBLdb/latest/\n"
      ]
    },
    {
      "cell_type": "code",
      "execution_count": null,
      "metadata": {
        "colab": {
          "base_uri": "https://localhost:8080/"
        },
        "id": "sS1zz5-wK546",
        "outputId": "5aced4dc-a052-4224-f896-45d124b82552"
      },
      "outputs": [
        {
          "name": "stdout",
          "output_type": "stream",
          "text": [
            "drwxr-xr-x    2 ftp      ftp           830 Jun 07 12:55 .\r\n",
            "drwxrwxr-x   38 ftp      ftp           976 Apr 15  2024 ..\r\n",
            "-rw-r--r--    1 ftp      ftp        367080 Jun 07 12:53 COMPONENT_DOMAINS.tsv\r\n",
            "-rw-r--r--    1 ftp      ftp         21142 Apr 15  2024 LICENSE\r\n",
            "-rw-r--r--    1 ftp      ftp          3197 Apr 15  2024 README\r\n",
            "-rw-r--r--    1 ftp      ftp           733 Apr 15  2024 REQUIRED.ATTRIBUTION\r\n",
            "-rw-r--r--    1 ftp      ftp           790 Apr 15  2024 checksums.txt\r\n",
            "-rw-r--r--    1 ftp      ftp       4072821 Apr 15  2024 chembl_34.fa.gz\r\n",
            "-rw-r--r--    1 ftp      ftp      142197113 Apr 15  2024 chembl_34.fps.gz\r\n",
            "-rw-r--r--    1 ftp      ftp      269577018 Apr 15  2024 chembl_34.h5\r\n",
            "-rw-r--r--    1 ftp      ftp      783334402 Apr 15  2024 chembl_34.sdf.gz\r\n",
            "-rw-r--r--    1 ftp      ftp        208001 Apr 15  2024 chembl_34_bio.fa.gz\r\n",
            "-rw-r--r--    1 ftp      ftp       4117207 Apr 15  2024 chembl_34_blast.fa.gz\r\n",
            "-rw-r--r--    1 ftp      ftp      236908262 Apr 15  2024 chembl_34_chemreps.txt.gz\r\n",
            "-rw-r--r--    1 ftp      ftp       4146779 Apr 15  2024 chembl_34_hmmr.fa.gz\r\n",
            "-rw-r--r--    1 ftp      ftp       3910194 Apr 15  2024 chembl_34_monomer_library.xml\r\n",
            "-rw-r--r--    1 ftp      ftp      1787240599 Apr 15  2024 chembl_34_mysql.tar.gz\r\n",
            "-rw-r--r--    1 ftp      ftp      1775690879 Apr 15  2024 chembl_34_postgresql.tar.gz\r\n",
            "-rw-r--r--    1 ftp      ftp         15317 Jun 06 13:13 chembl_34_release_notes.txt\r\n",
            "-rw-r--r--    1 ftp      ftp       3241592 Apr 15  2024 chembl_34_schema.png\r\n",
            "-rw-r--r--    1 ftp      ftp      4859330198 Apr 15  2024 chembl_34_sqlite.tar.gz\r\n",
            "-rw-r--r--    1 ftp      ftp        981341 Apr 15  2024 chembl_uniprot_mapping.txt\r\n",
            "-rw-r--r--    1 ftp      ftp        127540 Apr 15  2024 schema_documentation.html\r\n",
            "-rw-r--r--    1 ftp      ftp        104591 Apr 15  2024 schema_documentation.txt\r\n"
          ]
        }
      ],
      "source": [
        "!cat .listing\n"
      ]
    },
    {
      "cell_type": "markdown",
      "metadata": {
        "id": "-awdHmt5LpVO"
      },
      "source": [
        "Step 1: Download the chembl_34_sqlite.tar.gz\n",
        "- Run the following command to download the SQLite database:"
      ]
    },
    {
      "cell_type": "code",
      "execution_count": null,
      "metadata": {
        "colab": {
          "base_uri": "https://localhost:8080/"
        },
        "id": "_PG54rT7K57v",
        "outputId": "5ac1e996-0839-4d17-b00d-623ca85db208"
      },
      "outputs": [
        {
          "name": "stdout",
          "output_type": "stream",
          "text": [
            "--2024-10-17 12:23:36--  ftp://ftp.ebi.ac.uk/pub/databases/chembl/ChEMBLdb/latest/chembl_34_sqlite.tar.gz\n",
            "           => ‘chembl_34_sqlite.tar.gz.1’\n",
            "Resolving ftp.ebi.ac.uk (ftp.ebi.ac.uk)... 193.62.193.165\n",
            "Connecting to ftp.ebi.ac.uk (ftp.ebi.ac.uk)|193.62.193.165|:21... connected.\n",
            "Logging in as anonymous ... Logged in!\n",
            "==> SYST ... done.    ==> PWD ... done.\n",
            "==> TYPE I ... done.  ==> CWD (1) /pub/databases/chembl/ChEMBLdb/latest ... done.\n",
            "==> SIZE chembl_34_sqlite.tar.gz ... 4859330198\n",
            "==> PASV ... done.    ==> RETR chembl_34_sqlite.tar.gz ... done.\n",
            "Length: 4859330198 (4.5G) (unauthoritative)\n",
            "\n",
            "chembl_34_sqlite.ta 100%[===================>]   4.53G  16.2MB/s    in 2m 52s  \n",
            "\n",
            "2024-10-17 12:26:29 (27.0 MB/s) - ‘chembl_34_sqlite.tar.gz.1’ saved [4859330198]\n",
            "\n"
          ]
        }
      ],
      "source": [
        "!wget ftp://ftp.ebi.ac.uk/pub/databases/chembl/ChEMBLdb/latest/chembl_34_sqlite.tar.gz\n"
      ]
    },
    {
      "cell_type": "markdown",
      "metadata": {
        "id": "Yq_UfOtTL4jh"
      },
      "source": [
        "Step 2: Extract the Tar File\n",
        "- Once the download is complete, extract the file:"
      ]
    },
    {
      "cell_type": "code",
      "execution_count": null,
      "metadata": {
        "colab": {
          "background_save": true,
          "base_uri": "https://localhost:8080/"
        },
        "id": "_nh5kzsLK5-q",
        "outputId": "82c2a35c-fe76-41af-9ef5-7dd3d27dfc5e"
      },
      "outputs": [
        {
          "name": "stdout",
          "output_type": "stream",
          "text": [
            "chembl_34/chembl_34_sqlite/\n",
            "chembl_34/chembl_34_sqlite/INSTALL_sqlite\n",
            "chembl_34/chembl_34_sqlite/chembl_34.db\n"
          ]
        }
      ],
      "source": [
        "!tar -xvzf chembl_34_sqlite.tar.gz\n"
      ]
    },
    {
      "cell_type": "code",
      "execution_count": 12,
      "metadata": {
        "colab": {
          "base_uri": "https://localhost:8080/"
        },
        "id": "H7Hu4RzWO3Ad",
        "outputId": "d7a3f026-6ced-494a-edf1-07f32ea8569b"
      },
      "outputs": [
        {
          "output_type": "stream",
          "name": "stdout",
          "text": [
            "                         name\n",
            "0                 action_type\n",
            "1                  assay_type\n",
            "2            chembl_id_lookup\n",
            "3     confidence_score_lookup\n",
            "4             curation_lookup\n",
            "..                        ...\n",
            "75             mechanism_refs\n",
            "76            metabolism_refs\n",
            "77  predicted_binding_domains\n",
            "78               warning_refs\n",
            "79               sqlite_stat1\n",
            "\n",
            "[80 rows x 1 columns]\n"
          ]
        }
      ],
      "source": [
        "import sqlite3\n",
        "import pandas as pd\n",
        "\n",
        "# Connect to the SQLite database\n",
        "conn = sqlite3.connect('chembl_34/chembl_34_sqlite/chembl_34.db')\n",
        "\n",
        "# Query for table names\n",
        "tables = pd.read_sql(\"SELECT name FROM sqlite_master WHERE type='table';\", conn)\n",
        "\n",
        "# Display the list of tables\n",
        "print(tables)\n",
        "\n",
        "\n",
        "\n"
      ]
    },
    {
      "cell_type": "code",
      "execution_count": 14,
      "metadata": {
        "id": "jf8hmBsaSAN8",
        "colab": {
          "base_uri": "https://localhost:8080/"
        },
        "outputId": "004051c1-f158-4d13-8ddf-a49ddad55f84"
      },
      "outputs": [
        {
          "output_type": "stream",
          "name": "stdout",
          "text": [
            "   molregno                                  canonical_smiles\n",
            "0         1      Cc1cc(-n2ncc(=O)[nH]c2=O)ccc1C(=O)c1ccccc1Cl\n",
            "1         2   Cc1cc(-n2ncc(=O)[nH]c2=O)ccc1C(=O)c1ccc(C#N)cc1\n",
            "2         3  Cc1cc(-n2ncc(=O)[nH]c2=O)cc(C)c1C(O)c1ccc(Cl)cc1\n",
            "3         4      Cc1ccc(C(=O)c2ccc(-n3ncc(=O)[nH]c3=O)cc2)cc1\n",
            "4         5    Cc1cc(-n2ncc(=O)[nH]c2=O)ccc1C(=O)c1ccc(Cl)cc1\n"
          ]
        }
      ],
      "source": [
        "# Query to retrieve SMILES from molecule_structures table\n",
        "smiles_data = pd.read_sql(\"SELECT molregno, canonical_smiles FROM compound_structures LIMIT 5;\", conn)\n",
        "\n",
        "# Display the first few rows of the SMILES data\n",
        "print(smiles_data)\n"
      ]
    },
    {
      "cell_type": "code",
      "execution_count": null,
      "metadata": {
        "id": "8IXesE_RQ78x"
      },
      "outputs": [],
      "source": []
    },
    {
      "cell_type": "code",
      "execution_count": 15,
      "metadata": {
        "id": "MSqEvbQ-Or6l"
      },
      "outputs": [],
      "source": [
        "# Save the retrieved SMILES data to a CSV file\n",
        "smiles_data.to_csv('smiles_data.csv', index=False)\n"
      ]
    }
  ],
  "metadata": {
    "colab": {
      "provenance": [],
      "authorship_tag": "ABX9TyP0O/p4BoDwDOeChlmkmGIe",
      "include_colab_link": true
    },
    "kernelspec": {
      "display_name": "Python 3",
      "name": "python3"
    },
    "language_info": {
      "name": "python"
    }
  },
  "nbformat": 4,
  "nbformat_minor": 0
}