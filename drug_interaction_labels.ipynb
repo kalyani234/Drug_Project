{
  "nbformat": 4,
  "nbformat_minor": 0,
  "metadata": {
    "colab": {
      "provenance": [],
      "authorship_tag": "ABX9TyM0L8+HmWX7TXLMovrm+E9f",
      "include_colab_link": true
    },
    "kernelspec": {
      "name": "python3",
      "display_name": "Python 3"
    },
    "language_info": {
      "name": "python"
    }
  },
  "cells": [
    {
      "cell_type": "markdown",
      "metadata": {
        "id": "view-in-github",
        "colab_type": "text"
      },
      "source": [
        "<a href=\"https://colab.research.google.com/github/kalyani234/Drug_Project/blob/main/drug_interaction_labels.ipynb\" target=\"_parent\"><img src=\"https://colab.research.google.com/assets/colab-badge.svg\" alt=\"Open In Colab\"/></a>"
      ]
    },
    {
      "cell_type": "code",
      "execution_count": 1,
      "metadata": {
        "colab": {
          "base_uri": "https://localhost:8080/"
        },
        "id": "2iJoZuDZqu0v",
        "outputId": "430a183a-2a82-4e45-b2d3-a70a354f9934"
      },
      "outputs": [
        {
          "output_type": "stream",
          "name": "stdout",
          "text": [
            "        id name                              interaction smile    target  \\\n",
            "0  DB00001  NaN  DB14093|DB08496|DB14055|DB01481|DB01543   NaN       NaN   \n",
            "1  DB00002  NaN  DB16077|DB00054|DB12775|DB15076|DB16376   NaN   |||||||   \n",
            "2  DB00003  NaN                                      NaN   NaN       NaN   \n",
            "3  DB00004  NaN  DB06742|DB09009|DB01086|DB06770|DB00297   NaN         |   \n",
            "4  DB00005  NaN  DB08496|DB14055|DB02806|DB01472|DB14010   NaN  ||||||||   \n",
            "\n",
            "  enzyme carrier transporter  \n",
            "0    NaN     NaN         NaN  \n",
            "1    NaN     NaN         NaN  \n",
            "2    NaN     NaN         NaN  \n",
            "3    NaN     NaN         NaN  \n",
            "4    NaN     NaN         NaN  \n",
            "Index(['id', 'name', 'interaction', 'smile', 'target', 'enzyme', 'carrier',\n",
            "       'transporter'],\n",
            "      dtype='object')\n",
            "    Drug A   Drug B interaction_label\n",
            "0  DB00001  DB14093               yes\n",
            "1  DB00001  DB08496               yes\n",
            "2  DB00001  DB14055               yes\n",
            "3  DB00001  DB01481               yes\n",
            "4  DB00001  DB01543               yes\n"
          ]
        }
      ],
      "source": [
        "import pandas as pd\n",
        "\n",
        "# Load the file to check its structure\n",
        "file_path = '/content/drug_data-2.csv'\n",
        "drug_data = pd.read_csv(file_path)\n",
        "\n",
        "# Display the first few rows of the dataframe and its column information\n",
        "print(drug_data.head())\n",
        "print(drug_data.columns)\n",
        "\n",
        "# Initialize an empty list to store the transformed rows\n",
        "transformed_data = []\n",
        "\n",
        "# Iterate through each row in the original dataframe\n",
        "for _, row in drug_data.iterrows():\n",
        "    drug_a = row['id']\n",
        "    interactions = row['interaction']\n",
        "\n",
        "    # Check if there are interactions to process\n",
        "    if pd.notna(interactions):\n",
        "        # Split the interactions by '|' and create a new row for each interaction\n",
        "        for drug_b in interactions.split('|'):\n",
        "            transformed_data.append([drug_a, drug_b, 'yes'])\n",
        "    else:\n",
        "        # If no interactions, add a row with interaction_label as 'no'\n",
        "        transformed_data.append([drug_a, None, 'no'])\n",
        "\n",
        "# Create a new DataFrame with the transformed data\n",
        "transformed_df = pd.DataFrame(transformed_data, columns=['Drug A', 'Drug B', 'interaction_label'])\n",
        "\n",
        "# Display the first few rows of the transformed data\n",
        "print(transformed_df.head())\n",
        "\n",
        "# Save the transformed DataFrame to a new CSV file\n",
        "output_file_path = '/content/transformed_drug_data.csv'\n",
        "transformed_df.to_csv(output_file_path, index=False)\n",
        "\n"
      ]
    }
  ]
}